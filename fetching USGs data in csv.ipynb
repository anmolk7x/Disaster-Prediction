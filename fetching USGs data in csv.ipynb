{
 "cells": [
  {
   "cell_type": "code",
   "execution_count": 1,
   "id": "270dc1cf",
   "metadata": {},
   "outputs": [
    {
     "name": "stdout",
     "output_type": "stream",
     "text": [
      "Error fetching data from USGS API\n"
     ]
    }
   ],
   "source": [
    "import requests\n",
    "import pandas as pd\n",
    "from datetime import datetime, timedelta\n",
    "\n",
    "# Function to fetch earthquake data\n",
    "def fetch_earthquake_data(days=3650, min_magnitude=2.5, output_file='earthquake_data.csv'):\n",
    "    \"\"\"\n",
    "    Fetch earthquake data from the USGS API and save it as a CSV file.\n",
    "    \n",
    "    Parameters:\n",
    "    days (int): Number of past days to fetch data for (default: 10 years ~ 3650 days).\n",
    "    min_magnitude (float): Minimum magnitude threshold (default: 2.5).\n",
    "    output_file (str): Name of the CSV file to save data.\n",
    "    \"\"\"\n",
    "    \n",
    "    end_time = datetime.utcnow()\n",
    "    start_time = end_time - timedelta(days=days)\n",
    "    \n",
    "    url = (\n",
    "        f\"https://earthquake.usgs.gov/fdsnws/event/1/query?format=geojson\"\n",
    "        f\"&starttime={start_time.strftime('%Y-%m-%d')}\"\n",
    "        f\"&endtime={end_time.strftime('%Y-%m-%d')}\"\n",
    "        f\"&minmagnitude={min_magnitude}\"\n",
    "        f\"&limit=20000\"  # Max limit to get more data\n",
    "    )\n",
    "    \n",
    "    response = requests.get(url)\n",
    "    if response.status_code != 200:\n",
    "        print(\"Error fetching data from USGS API\")\n",
    "        return\n",
    "    \n",
    "    data = response.json().get(\"features\", [])\n",
    "    \n",
    "    # Extract relevant information\n",
    "    records = []\n",
    "    for quake in data:\n",
    "        props = quake['properties']\n",
    "        coords = quake['geometry']['coordinates']\n",
    "        \n",
    "        records.append({\n",
    "            \"Time\": datetime.utcfromtimestamp(props['time'] / 1000).strftime('%Y-%m-%d %H:%M:%S'),\n",
    "            \"Magnitude\": props.get('mag', 'N/A'),\n",
    "            \"Depth_km\": coords[2] if coords else 'N/A',\n",
    "            \"Latitude\": coords[1] if coords else 'N/A',\n",
    "            \"Longitude\": coords[0] if coords else 'N/A',\n",
    "            \"Location\": props.get('place', 'Unknown')\n",
    "        })\n",
    "    \n",
    "    # Save to CSV\n",
    "    df = pd.DataFrame(records)\n",
    "    df.to_csv(output_file, index=False)\n",
    "    print(f\"✅ Earthquake data saved to {output_file} (Total records: {len(df)})\")\n",
    "\n",
    "# Run the function\n",
    "fetch_earthquake_data()\n"
   ]
  },
  {
   "cell_type": "code",
   "execution_count": null,
   "id": "7326529f",
   "metadata": {},
   "outputs": [],
   "source": []
  }
 ],
 "metadata": {
  "kernelspec": {
   "display_name": "Python 3 (ipykernel)",
   "language": "python",
   "name": "python3"
  },
  "language_info": {
   "codemirror_mode": {
    "name": "ipython",
    "version": 3
   },
   "file_extension": ".py",
   "mimetype": "text/x-python",
   "name": "python",
   "nbconvert_exporter": "python",
   "pygments_lexer": "ipython3",
   "version": "3.11.5"
  }
 },
 "nbformat": 4,
 "nbformat_minor": 5
}

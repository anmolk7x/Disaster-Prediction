{
 "cells": [
  {
   "cell_type": "code",
   "execution_count": 1,
   "id": "368aa43d",
   "metadata": {},
   "outputs": [
    {
     "name": "stdout",
     "output_type": "stream",
     "text": [
      "✅ earthquake_training_features.csv created successfully!\n"
     ]
    }
   ],
   "source": [
    "import pandas as pd\n",
    "\n",
    "# Load your original dataset\n",
    "dataset = pd.read_csv(\"Earthquake_dataset.csv\")\n",
    "\n",
    "# Same preprocessing steps as used in training\n",
    "import re\n",
    "lst = []\n",
    "for i in dataset['place']:\n",
    "    new = re.sub('^(.*of )', \"\", i)\n",
    "    lst.append(new)\n",
    "dataset['place'] = lst\n",
    "\n",
    "df = pd.get_dummies(dataset, columns=['place'])\n",
    "\n",
    "# Drop unwanted columns\n",
    "X = df.drop(['time', 'latitude', 'longitude', 'mag', 'magType', 'dmin', 'net', 'id', 'updated', 'type', 'horizontalError', 'depthError', 'magError', 'magNst', 'status', 'locationSource', 'magSource'], axis=1)\n",
    "\n",
    "# Save feature names\n",
    "X.columns.to_series().to_csv(\"earthquake_training_features.csv\", index=False)\n",
    "\n",
    "print(\"✅ earthquake_training_features.csv created successfully!\")\n"
   ]
  },
  {
   "cell_type": "code",
   "execution_count": null,
   "id": "02133ee8",
   "metadata": {},
   "outputs": [],
   "source": []
  }
 ],
 "metadata": {
  "kernelspec": {
   "display_name": "Python 3 (ipykernel)",
   "language": "python",
   "name": "python3"
  },
  "language_info": {
   "codemirror_mode": {
    "name": "ipython",
    "version": 3
   },
   "file_extension": ".py",
   "mimetype": "text/x-python",
   "name": "python",
   "nbconvert_exporter": "python",
   "pygments_lexer": "ipython3",
   "version": "3.11.5"
  }
 },
 "nbformat": 4,
 "nbformat_minor": 5
}
